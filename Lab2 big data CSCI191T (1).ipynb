{
 "cells": [
  {
   "cell_type": "code",
   "execution_count": 5,
   "metadata": {},
   "outputs": [
    {
     "name": "stdout",
     "output_type": "stream",
     "text": [
      "Lockers which are open are:  [1, 4, 9, 16, 25, 36, 49, 64, 81, 100, 121, 144, 169, 196, 225, 256, 289, 324, 361, 400, 441, 484, 529, 576, 625, 676, 729, 784, 841, 900, 961]\n"
     ]
    }
   ],
   "source": [
    "\"\"\"\n",
    "Vraj Mistry\n",
    "CSCI 191T Big data\n",
    "\"\"\"\n",
    "#Question1 LAB2\n",
    "#Simulating \n",
    "LockerList = [] #intializing the list to empty \n",
    "for i in range(0, 1000):      #using forloop to make all lockers upto 1000 to False\n",
    "    LockerList.append(False)  #append function to add False \n",
    "\n",
    "    \n",
    "for i in range(0, len(LockerList)+1):         #using this for loop for number of person toggling lockers\n",
    "    for j in range (0, len(LockerList)+1):     #using this for loop for each person toggling particular lockers\n",
    "            \n",
    "        n = i*j        \n",
    "        if n < 1000:             #using this if conditons to make sure we are not outside the range\n",
    "            if LockerList[n] == True:   #if the locker is open then we will close it or visa-versa\n",
    "                 LockerList[n] = False\n",
    "            else:\n",
    "                  LockerList[n] = True\n",
    "        else:\n",
    "            break            #using break to make sure we are not outside range and start over \n",
    "                \n",
    "\n",
    "    \n",
    "l=[i for i in range(1,len(LockerList)) if LockerList[i]== True]  #using list comperhension to output the product in one single list \n",
    "print(\"Lockers which are open are: \",l)\n",
    "\n"
   ]
  },
  {
   "cell_type": "code",
   "execution_count": 8,
   "metadata": {},
   "outputs": [
    {
     "name": "stdout",
     "output_type": "stream",
     "text": [
      "List of Prime numbers =  [3, 7, 31, 127, 8191, 131071, 524287, 2147483647]\n",
      "List of all indices =  [2, 3, 5, 7, 13, 17, 19, 31]\n"
     ]
    }
   ],
   "source": [
    "import math             #using the math library for the squareroot function\n",
    "def primex(n):      #using the primex function to check for the prime number \n",
    "    \n",
    "    for i in range(2, int(math.sqrt(n))+1): # this loop will iterate from 2 to sqareroot of number to see if there are any number divisible\n",
    "        if(n%i == 0):                    \n",
    "            return False         # return false if it is divisible by any other number\n",
    "\n",
    "    return True  # returns true if it prime \n",
    "\n",
    "MersenneList = [2**n -1 for n in range(2,32)]  #generating list of Mersenne primes by list comperhension\n",
    "\n",
    "# print(List1)\n",
    "\n",
    "List_Prime = [MersenneList[i] for i in range(0,len(MersenneList)) if primex(MersenneList[i])]  # generating list of perfect prime numbers \n",
    "List_index = [n for n in range(2,32) if primex(2**n -1) ] #generating list of all n values in 2**n-1 of prime numbers\n",
    "\n",
    "print(\"List of Prime numbers = \",List_Prime) #printing the list of prime numbers \n",
    "print(\"List of all indices = \",List_index) #printing the index of n in 2**n -1 which are actual prime numbers\n",
    "                "
   ]
  },
  {
   "cell_type": "code",
   "execution_count": null,
   "metadata": {},
   "outputs": [],
   "source": []
  }
 ],
 "metadata": {
  "kernelspec": {
   "display_name": "Python 3",
   "language": "python",
   "name": "python3"
  },
  "language_info": {
   "codemirror_mode": {
    "name": "ipython",
    "version": 3
   },
   "file_extension": ".py",
   "mimetype": "text/x-python",
   "name": "python",
   "nbconvert_exporter": "python",
   "pygments_lexer": "ipython3",
   "version": "3.7.4"
  }
 },
 "nbformat": 4,
 "nbformat_minor": 2
}
