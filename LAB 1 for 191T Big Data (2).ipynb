{
 "cells": [
  {
   "cell_type": "code",
   "execution_count": 6,
   "metadata": {},
   "outputs": [
    {
     "name": "stdout",
     "output_type": "stream",
     "text": [
      "Enter the number80\n",
      "4 √ 5\n"
     ]
    }
   ],
   "source": [
    "'''\n",
    "Vraj Mistry\n",
    "109951458\n",
    "CSCI191T Lab 1\n",
    "'''\n",
    "#question 1A\n",
    "import math     # for math function\n",
    "\n",
    "def primefactorization(userinput): # the function to calculate the simple radical form\n",
    "    primefactorslist = []     # storing all the factors in the list initially zero\n",
    "    while userinput%2==0:            #if even number then we divide it by 2\n",
    "        primefactorslist.append(2)\n",
    "        userinput = userinput/2\n",
    "    \n",
    "    for i in range(3, int(math.sqrt(userinput))+1, 2): #if not even number than we do until the root of number\n",
    "                   while userinput%i ==0:\n",
    "                    primefactorslist.append(i)   # adding to the list \n",
    "                    userinput = userinput/i\n",
    "    if userinput>2:                         # if it is prime number then we just add it to the list \n",
    "        primefactorslist.append(userinput)\n",
    "    \n",
    "    primefactorslist.sort()          # sort the list to get the desire radical form\n",
    "    \n",
    "    outer = 1\n",
    "    inner = 1\n",
    "    i = 0\n",
    "    while i < len(primefactorslist):   #printing the form of radical form \n",
    "        if i == len(primefactorslist)-1:\n",
    "            inner= inner*primefactorslist[-1]\n",
    "            break\n",
    "\n",
    "        elif primefactorslist[i] is primefactorslist[i+1]:\n",
    "                outer= outer * primefactorslist[i]\n",
    "                i+=2\n",
    "        else:\n",
    "            inner = inner*primefactorslist[i]\n",
    "            i+=1\n",
    "\n",
    "   \n",
    "    \n",
    "    if inner==1:                  # if it perfect square then print without the radical \n",
    "        print(outer)\n",
    "    else:                            #if not then print with radical form \n",
    "        print(outer,u\"\\u221a\", int(inner))\n",
    "                   \n",
    "userinput = int(input('Enter the number'))     # asking user to enter the number \n",
    "primefactorization(userinput)                   # calling the function\n"
   ]
  },
  {
   "cell_type": "code",
   "execution_count": 9,
   "metadata": {},
   "outputs": [
    {
     "name": "stdout",
     "output_type": "stream",
     "text": [
      "Enter the number80\n",
      "Enter the nth root3\n",
      "2 √ 10\n"
     ]
    }
   ],
   "source": [
    "'''\n",
    "Vraj Mistry\n",
    "109951458\n",
    "CSCI191T Lab 1\n",
    "'''\n",
    "#question 1A\n",
    "import math     # for math function\n",
    "\n",
    "def primefactorization(userinput, nthterm): # the function to calculate the simple radical form\n",
    "    primefactorslist = []     # storing all the factors in the list initially zero\n",
    "    while userinput%2==0:            #if even number then we divide it by 2\n",
    "        primefactorslist.append(2)\n",
    "        userinput = userinput/2\n",
    "    \n",
    "    for i in range(3, int(math.sqrt(userinput))+1, 2): #if not even number than we do until the root of number\n",
    "                   while userinput%i ==0:\n",
    "                    primefactorslist.append(i)   # adding to the list \n",
    "                    userinput = userinput/i\n",
    "    if userinput>2:                         # if it is prime number then we just add it to the list \n",
    "        primefactorslist.append(userinput)\n",
    "    \n",
    "    primefactorslist.sort()          # sort the list to get the desire radical form\n",
    "    \n",
    "    outer = 1\n",
    "    inner = 1\n",
    "    i = 0\n",
    "    while i < len(primefactorslist):   #printing the form of radical form \n",
    "        if i == len(primefactorslist)-1:\n",
    "            inner= inner*primefactorslist[-1]\n",
    "            break\n",
    "            \n",
    "        elif primefactorslist[i] is primefactorslist[i+1]:\n",
    "                for j in range(1,nthterm):\n",
    "                    if j == len(primefactorslist)-1:          #Comparing the element of 1st with next nth terms \n",
    "                        break\n",
    "                    elif primefactorslist[i] != primefactorslist[j]:\n",
    "                        break\n",
    "                    else:\n",
    "                        j+=1\n",
    "                outer = outer*primefactorslist[i]        # storing the value in variable y, outer part of root \n",
    "                i+=nthterm\n",
    "        else:\n",
    "            inner = inner*primefactorslist[i]\n",
    "            i+=1\n",
    "\n",
    "   \n",
    "    \n",
    "    if inner==1:                  # if it perfect square then print without the radical \n",
    "        print(outer)\n",
    "    else:                            #if not then print with radical form \n",
    "        print(outer,u\"\\u221a\", int(inner))\n",
    "                   \n",
    "userinput = int(input('Enter the number'))     # asking user to enter the number \n",
    "nthterm = int(input(\"Enter the nth root\"))\n",
    "primefactorization(userinput, nthterm)                   # calling the function\n"
   ]
  },
  {
   "cell_type": "code",
   "execution_count": 10,
   "metadata": {},
   "outputs": [
    {
     "name": "stdout",
     "output_type": "stream",
     "text": [
      "Enter a long integer323223232\n",
      "Enter a short number2\n",
      "101001010"
     ]
    }
   ],
   "source": [
    "# Question 2\n",
    "\n",
    "longInt = input(\"Enter a long integer\")\n",
    "shortInt= input(\"Enter a short number\")\n",
    "\n",
    "for i in str(longInt):           #iterating through x using str function\n",
    "    \n",
    "    if i < shortInt or i is shortInt:\n",
    "        print(0, end = \"\")     # outputing using end to make sure it is in single line\n",
    "    else:\n",
    "        print(int(i) - int(shortInt), end = \"\")\n"
   ]
  }
 ],
 "metadata": {
  "kernelspec": {
   "display_name": "Python 3",
   "language": "python",
   "name": "python3"
  },
  "language_info": {
   "codemirror_mode": {
    "name": "ipython",
    "version": 3
   },
   "file_extension": ".py",
   "mimetype": "text/x-python",
   "name": "python",
   "nbconvert_exporter": "python",
   "pygments_lexer": "ipython3",
   "version": "3.7.4"
  }
 },
 "nbformat": 4,
 "nbformat_minor": 2
}
