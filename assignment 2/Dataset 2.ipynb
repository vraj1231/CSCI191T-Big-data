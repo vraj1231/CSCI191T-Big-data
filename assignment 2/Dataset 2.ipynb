{
 "cells": [
  {
   "cell_type": "code",
   "execution_count": 1,
   "metadata": {},
   "outputs": [],
   "source": [
    "\"\"\"\n",
    "Vraj Mistry\n",
    "109951458\n",
    "Assignment 2 \n",
    "\"\"\"\n",
    "# Part1  real- world sceniro dataset\n",
    "import matplotlib.pyplot as plt                   \n",
    "import numpy as np                              \n",
    "import pandas as pd\n",
    "import statistics as st\n",
    "import random\n",
    "\n",
    "dataList = pd.read_csv('flu-clinicallab-byregion-fluseason.csv')         #reading the file \"diabetes.tab.csv\" from computer \n",
    " "
   ]
  },
  {
   "cell_type": "code",
   "execution_count": 30,
   "metadata": {
    "scrolled": true
   },
   "outputs": [
    {
     "data": {
      "text/html": [
       "<div>\n",
       "<style scoped>\n",
       "    .dataframe tbody tr th:only-of-type {\n",
       "        vertical-align: middle;\n",
       "    }\n",
       "\n",
       "    .dataframe tbody tr th {\n",
       "        vertical-align: top;\n",
       "    }\n",
       "\n",
       "    .dataframe thead th {\n",
       "        text-align: right;\n",
       "    }\n",
       "</style>\n",
       "<table border=\"1\" class=\"dataframe\">\n",
       "  <thead>\n",
       "    <tr style=\"text-align: right;\">\n",
       "      <th></th>\n",
       "      <th>season</th>\n",
       "      <th>date_code</th>\n",
       "      <th>weekending</th>\n",
       "      <th>region</th>\n",
       "      <th>Respiratory_Virus</th>\n",
       "      <th>Number_Positive</th>\n",
       "      <th>Specimens_Tested</th>\n",
       "      <th>Percent_Positive</th>\n",
       "    </tr>\n",
       "  </thead>\n",
       "  <tbody>\n",
       "    <tr>\n",
       "      <td>0</td>\n",
       "      <td>2009-2010</td>\n",
       "      <td>200940</td>\n",
       "      <td>10/10/09</td>\n",
       "      <td>Bay Area</td>\n",
       "      <td>Influenza_A</td>\n",
       "      <td>36</td>\n",
       "      <td>220</td>\n",
       "      <td>16.36</td>\n",
       "    </tr>\n",
       "    <tr>\n",
       "      <td>1</td>\n",
       "      <td>2009-2010</td>\n",
       "      <td>200940</td>\n",
       "      <td>10/10/09</td>\n",
       "      <td>Bay Area</td>\n",
       "      <td>Influenza_B</td>\n",
       "      <td>0</td>\n",
       "      <td>220</td>\n",
       "      <td>0.00</td>\n",
       "    </tr>\n",
       "    <tr>\n",
       "      <td>2</td>\n",
       "      <td>2009-2010</td>\n",
       "      <td>200940</td>\n",
       "      <td>10/10/09</td>\n",
       "      <td>Bay Area</td>\n",
       "      <td>Total_Influenza</td>\n",
       "      <td>36</td>\n",
       "      <td>220</td>\n",
       "      <td>16.36</td>\n",
       "    </tr>\n",
       "    <tr>\n",
       "      <td>3</td>\n",
       "      <td>2009-2010</td>\n",
       "      <td>200940</td>\n",
       "      <td>10/10/09</td>\n",
       "      <td>Bay Area</td>\n",
       "      <td>RSV</td>\n",
       "      <td>0</td>\n",
       "      <td>190</td>\n",
       "      <td>0.00</td>\n",
       "    </tr>\n",
       "    <tr>\n",
       "      <td>4</td>\n",
       "      <td>2009-2010</td>\n",
       "      <td>200940</td>\n",
       "      <td>10/10/09</td>\n",
       "      <td>California</td>\n",
       "      <td>Influenza_A</td>\n",
       "      <td>1077</td>\n",
       "      <td>3324</td>\n",
       "      <td>32.40</td>\n",
       "    </tr>\n",
       "  </tbody>\n",
       "</table>\n",
       "</div>"
      ],
      "text/plain": [
       "      season  date_code weekending      region Respiratory_Virus  \\\n",
       "0  2009-2010     200940   10/10/09    Bay Area       Influenza_A   \n",
       "1  2009-2010     200940   10/10/09    Bay Area       Influenza_B   \n",
       "2  2009-2010     200940   10/10/09    Bay Area   Total_Influenza   \n",
       "3  2009-2010     200940   10/10/09    Bay Area               RSV   \n",
       "4  2009-2010     200940   10/10/09  California       Influenza_A   \n",
       "\n",
       "   Number_Positive  Specimens_Tested  Percent_Positive  \n",
       "0               36               220             16.36  \n",
       "1                0               220              0.00  \n",
       "2               36               220             16.36  \n",
       "3                0               190              0.00  \n",
       "4             1077              3324             32.40  "
      ]
     },
     "execution_count": 30,
     "metadata": {},
     "output_type": "execute_result"
    }
   ],
   "source": [
    "dataList.isnull().any()   # to check if there is any null files in the dataset\n",
    "\n",
    "dataList1 = dataList.dropna(axis = 0, how ='any')  # to drop all the cell with null values \n",
    "\n",
    "dataList1.head() # checking the data\n"
   ]
  },
  {
   "cell_type": "code",
   "execution_count": 3,
   "metadata": {},
   "outputs": [
    {
     "data": {
      "text/plain": [
       "4.132762234305507"
      ]
     },
     "execution_count": 3,
     "metadata": {},
     "output_type": "execute_result"
    }
   ],
   "source": [
    "#part 2A repeating \n",
    "dataList1['Percent_Positive'].mean()        #mean of designated column in the dataset"
   ]
  },
  {
   "cell_type": "code",
   "execution_count": 4,
   "metadata": {},
   "outputs": [
    {
     "data": {
      "text/plain": [
       "0.87"
      ]
     },
     "execution_count": 4,
     "metadata": {},
     "output_type": "execute_result"
    }
   ],
   "source": [
    "dataList1['Percent_Positive'].median()        #median of designated column in the dataset      "
   ]
  },
  {
   "cell_type": "code",
   "execution_count": 5,
   "metadata": {},
   "outputs": [
    {
     "data": {
      "text/plain": [
       "0    0.0\n",
       "dtype: float64"
      ]
     },
     "execution_count": 5,
     "metadata": {},
     "output_type": "execute_result"
    }
   ],
   "source": [
    "dataList1['Percent_Positive'].mode()        #mode of designated column in the dataset        "
   ]
  },
  {
   "cell_type": "code",
   "execution_count": 6,
   "metadata": {},
   "outputs": [
    {
     "data": {
      "text/plain": [
       "count    30345.000000\n",
       "mean         4.132762\n",
       "std          7.261318\n",
       "min          0.000000\n",
       "25%          0.000000\n",
       "50%          0.870000\n",
       "75%          4.880000\n",
       "max        100.000000\n",
       "Name: Percent_Positive, dtype: float64"
      ]
     },
     "execution_count": 6,
     "metadata": {},
     "output_type": "execute_result"
    }
   ],
   "source": [
    "dataList1['Percent_Positive'].describe()        #dispersion of designated column in the dataset       "
   ]
  },
  {
   "cell_type": "code",
   "execution_count": 7,
   "metadata": {},
   "outputs": [
    {
     "data": {
      "text/plain": [
       "394.07704728950404"
      ]
     },
     "execution_count": 7,
     "metadata": {},
     "output_type": "execute_result"
    }
   ],
   "source": [
    "dataList1['Specimens_Tested'].mean()        #mean of designated column in the dataset       "
   ]
  },
  {
   "cell_type": "code",
   "execution_count": 8,
   "metadata": {},
   "outputs": [
    {
     "data": {
      "text/plain": [
       "167.0"
      ]
     },
     "execution_count": 8,
     "metadata": {},
     "output_type": "execute_result"
    }
   ],
   "source": [
    "dataList1['Specimens_Tested'].median()        #median of designated column in the dataset  "
   ]
  },
  {
   "cell_type": "code",
   "execution_count": 9,
   "metadata": {},
   "outputs": [
    {
     "data": {
      "text/plain": [
       "0    45\n",
       "dtype: int64"
      ]
     },
     "execution_count": 9,
     "metadata": {},
     "output_type": "execute_result"
    }
   ],
   "source": [
    "dataList1['Specimens_Tested'].mode()        #mode of designated column in the dataset   "
   ]
  },
  {
   "cell_type": "code",
   "execution_count": 10,
   "metadata": {},
   "outputs": [
    {
     "data": {
      "text/plain": [
       "count    30345.000000\n",
       "mean       394.077047\n",
       "std        617.379448\n",
       "min          1.000000\n",
       "25%         73.000000\n",
       "50%        167.000000\n",
       "75%        453.000000\n",
       "max       8046.000000\n",
       "Name: Specimens_Tested, dtype: float64"
      ]
     },
     "execution_count": 10,
     "metadata": {},
     "output_type": "execute_result"
    }
   ],
   "source": [
    "dataList1['Specimens_Tested'].describe()        #dispersion of designated column in the dataset "
   ]
  },
  {
   "cell_type": "code",
   "execution_count": 11,
   "metadata": {},
   "outputs": [
    {
     "data": {
      "text/plain": [
       "23.793244356566156"
      ]
     },
     "execution_count": 11,
     "metadata": {},
     "output_type": "execute_result"
    }
   ],
   "source": [
    "dataList1['Number_Positive'].mean()        #mean of designated column in the dataset "
   ]
  },
  {
   "cell_type": "code",
   "execution_count": 12,
   "metadata": {},
   "outputs": [
    {
     "data": {
      "text/plain": [
       "2.0"
      ]
     },
     "execution_count": 12,
     "metadata": {},
     "output_type": "execute_result"
    }
   ],
   "source": [
    "dataList1['Number_Positive'].median()         #median of designated column in the dataset"
   ]
  },
  {
   "cell_type": "code",
   "execution_count": 13,
   "metadata": {},
   "outputs": [
    {
     "data": {
      "text/plain": [
       "0    0\n",
       "dtype: int64"
      ]
     },
     "execution_count": 13,
     "metadata": {},
     "output_type": "execute_result"
    }
   ],
   "source": [
    "dataList1['Number_Positive'].mode()        #mode of designated column in the dataset"
   ]
  },
  {
   "cell_type": "code",
   "execution_count": 14,
   "metadata": {
    "scrolled": true
   },
   "outputs": [
    {
     "data": {
      "text/plain": [
       "count    30345.000000\n",
       "mean        23.793244\n",
       "std         96.076884\n",
       "min          0.000000\n",
       "25%          0.000000\n",
       "50%          2.000000\n",
       "75%         10.000000\n",
       "max       3125.000000\n",
       "Name: Number_Positive, dtype: float64"
      ]
     },
     "execution_count": 14,
     "metadata": {},
     "output_type": "execute_result"
    }
   ],
   "source": [
    "dataList1['Number_Positive'].describe()        #dispersion of designated column in the dataset "
   ]
  },
  {
   "cell_type": "code",
   "execution_count": 48,
   "metadata": {},
   "outputs": [
    {
     "data": {
      "image/png": "[encoded data removed]",
      "text/plain": [
       "<Figure size 432x288 with 1 Axes>"
      ]
     },
     "metadata": {
      "needs_background": "light"
     },
     "output_type": "display_data"
    }
   ],
   "source": [
    "dataList1.plot(x='Number_Positive', y='Specimens_Tested',kind = \"line\") #graph of column x axis=\"AGE\" vs  y axis = column  \"BMI\" and type of graph is bar\n",
    "plt.title(\"Number_Positive vs Specimens_Tested\")     #graph title \n",
    "plt.xlabel(\"Number_Positive\")  # labeling X - axis\n",
    "plt.ylabel(\"Specimens_Tested\") # labeling Y- axis\n",
    "plt.show()           #showing the graph"
   ]
  },
  {
   "cell_type": "code",
   "execution_count": 17,
   "metadata": {},
   "outputs": [
    {
     "data": {
      "image/png": "[encoded data removed]",
      "text/plain": [
       "<Figure size 432x288 with 1 Axes>"
      ]
     },
     "metadata": {
      "needs_background": "light"
     },
     "output_type": "display_data"
    }
   ],
   "source": [
    "dataList1.plot(x='Specimens_Tested', y='Percent_Positive',kind = \"line\") #graph of column x axis=\"AGE\" vs  y axis = column  \"BMI\" and type of graph is bar\n",
    "plt.title(\"Specimens_Tested vs Percent_Positive\")   #graph title \n",
    "plt.ylabel(\"Percent_Positive\")  # labeling Y - axis\n",
    "plt.xlabel(\"Specimens_Tested\") # labeling X- axis\n",
    "plt.show()   #outputing the graph"
   ]
  },
  {
   "cell_type": "code",
   "execution_count": 18,
   "metadata": {},
   "outputs": [
    {
     "data": {
      "text/html": [
       "<div>\n",
       "<style scoped>\n",
       "    .dataframe tbody tr th:only-of-type {\n",
       "        vertical-align: middle;\n",
       "    }\n",
       "\n",
       "    .dataframe tbody tr th {\n",
       "        vertical-align: top;\n",
       "    }\n",
       "\n",
       "    .dataframe thead th {\n",
       "        text-align: right;\n",
       "    }\n",
       "</style>\n",
       "<table border=\"1\" class=\"dataframe\">\n",
       "  <thead>\n",
       "    <tr style=\"text-align: right;\">\n",
       "      <th></th>\n",
       "      <th>date_code</th>\n",
       "      <th>Number_Positive</th>\n",
       "      <th>Specimens_Tested</th>\n",
       "      <th>Percent_Positive</th>\n",
       "    </tr>\n",
       "  </thead>\n",
       "  <tbody>\n",
       "    <tr>\n",
       "      <td>date_code</td>\n",
       "      <td>1.000000</td>\n",
       "      <td>-0.019158</td>\n",
       "      <td>0.074711</td>\n",
       "      <td>-0.073769</td>\n",
       "    </tr>\n",
       "    <tr>\n",
       "      <td>Number_Positive</td>\n",
       "      <td>-0.019158</td>\n",
       "      <td>1.000000</td>\n",
       "      <td>0.671866</td>\n",
       "      <td>0.466821</td>\n",
       "    </tr>\n",
       "    <tr>\n",
       "      <td>Specimens_Tested</td>\n",
       "      <td>0.074711</td>\n",
       "      <td>0.671866</td>\n",
       "      <td>1.000000</td>\n",
       "      <td>0.167456</td>\n",
       "    </tr>\n",
       "    <tr>\n",
       "      <td>Percent_Positive</td>\n",
       "      <td>-0.073769</td>\n",
       "      <td>0.466821</td>\n",
       "      <td>0.167456</td>\n",
       "      <td>1.000000</td>\n",
       "    </tr>\n",
       "  </tbody>\n",
       "</table>\n",
       "</div>"
      ],
      "text/plain": [
       "                  date_code  Number_Positive  Specimens_Tested  \\\n",
       "date_code          1.000000        -0.019158          0.074711   \n",
       "Number_Positive   -0.019158         1.000000          0.671866   \n",
       "Specimens_Tested   0.074711         0.671866          1.000000   \n",
       "Percent_Positive  -0.073769         0.466821          0.167456   \n",
       "\n",
       "                  Percent_Positive  \n",
       "date_code                -0.073769  \n",
       "Number_Positive           0.466821  \n",
       "Specimens_Tested          0.167456  \n",
       "Percent_Positive          1.000000  "
      ]
     },
     "execution_count": 18,
     "metadata": {},
     "output_type": "execute_result"
    }
   ],
   "source": [
    "dataList1.corr()"
   ]
  },
  {
   "cell_type": "code",
   "execution_count": 46,
   "metadata": {},
   "outputs": [
    {
     "data": {
      "text/plain": [
       "LinearRegression(copy_X=True, fit_intercept=True, n_jobs=None, normalize=False)"
      ]
     },
     "execution_count": 46,
     "metadata": {},
     "output_type": "execute_result"
    },
    {
     "data": {
      "image/png": "[encoded data removed]",
      "text/plain": [
       "<Figure size 1080x720 with 1 Axes>"
      ]
     },
     "metadata": {
      "needs_background": "light"
     },
     "output_type": "display_data"
    }
   ],
   "source": [
    "#Linear Regression \n",
    "import math as sqrt\n",
    "import pandas as pd  \n",
    "import numpy as np  \n",
    "import matplotlib.pyplot as plt  \n",
    "import seaborn as seabornInstance \n",
    "from sklearn.model_selection import train_test_split \n",
    "from sklearn.linear_model import LinearRegression\n",
    "from sklearn import metrics\n",
    "%matplotlib inline\n",
    "\n",
    "X = dataList1[[\"Number_Positive\", \"Specimens_Tested\"]].values        # X plot for BMI, BP to get the result of both predictors on Y \n",
    "Y = dataList1[\"Percent_Positive\"].values                  # Y plot for Y column \n",
    "\n",
    "\n",
    "plt.figure(figsize=(15,10))              #  adjusting figure size \n",
    "plt.tight_layout()                     # making sure if the data is big it will be in the image \n",
    "seabornInstance.distplot(dataList1['Percent_Positive'])      # looking for the average values expected in column Y\n",
    "\n",
    "X_train, X_test, Y_train, Y_test = train_test_split(X, Y, test_size=0.2, random_state=0) #training the cases and to compare result\n",
    "\n",
    "line1 = LinearRegression()        # doing Linear regression\n",
    "line1.fit(X_train,Y_train)      #using the fit function to make sure the graph is fit\n",
    "\n",
    "\n",
    "\n"
   ]
  },
  {
   "cell_type": "code",
   "execution_count": 47,
   "metadata": {},
   "outputs": [
    {
     "data": {
      "text/html": [
       "<div>\n",
       "<style scoped>\n",
       "    .dataframe tbody tr th:only-of-type {\n",
       "        vertical-align: middle;\n",
       "    }\n",
       "\n",
       "    .dataframe tbody tr th {\n",
       "        vertical-align: top;\n",
       "    }\n",
       "\n",
       "    .dataframe thead th {\n",
       "        text-align: right;\n",
       "    }\n",
       "</style>\n",
       "<table border=\"1\" class=\"dataframe\">\n",
       "  <thead>\n",
       "    <tr style=\"text-align: right;\">\n",
       "      <th></th>\n",
       "      <th>Coeff</th>\n",
       "    </tr>\n",
       "  </thead>\n",
       "  <tbody>\n",
       "    <tr>\n",
       "      <td>Number_Positive</td>\n",
       "      <td>0.048787</td>\n",
       "    </tr>\n",
       "    <tr>\n",
       "      <td>Specimens_Tested</td>\n",
       "      <td>-0.003112</td>\n",
       "    </tr>\n",
       "  </tbody>\n",
       "</table>\n",
       "</div>"
      ],
      "text/plain": [
       "                     Coeff\n",
       "Number_Positive   0.048787\n",
       "Specimens_Tested -0.003112"
      ]
     },
     "execution_count": 47,
     "metadata": {},
     "output_type": "execute_result"
    }
   ],
   "source": [
    "coeff_datalist = pd.DataFrame(line1.coef_, [\"Number_Positive\",\"Specimens_Tested\"], columns = [\"Coeff\"])     #checking the coefficent to see what train and actual values are\n",
    "coeff_datalist\n"
   ]
  },
  {
   "cell_type": "code",
   "execution_count": 23,
   "metadata": {
    "scrolled": true
   },
   "outputs": [
    {
     "data": {
      "text/html": [
       "<div>\n",
       "<style scoped>\n",
       "    .dataframe tbody tr th:only-of-type {\n",
       "        vertical-align: middle;\n",
       "    }\n",
       "\n",
       "    .dataframe tbody tr th {\n",
       "        vertical-align: top;\n",
       "    }\n",
       "\n",
       "    .dataframe thead th {\n",
       "        text-align: right;\n",
       "    }\n",
       "</style>\n",
       "<table border=\"1\" class=\"dataframe\">\n",
       "  <thead>\n",
       "    <tr style=\"text-align: right;\">\n",
       "      <th></th>\n",
       "      <th>Original</th>\n",
       "      <th>Predict</th>\n",
       "    </tr>\n",
       "  </thead>\n",
       "  <tbody>\n",
       "    <tr>\n",
       "      <td>0</td>\n",
       "      <td>0.00</td>\n",
       "      <td>3.765260</td>\n",
       "    </tr>\n",
       "    <tr>\n",
       "      <td>1</td>\n",
       "      <td>0.00</td>\n",
       "      <td>4.138780</td>\n",
       "    </tr>\n",
       "    <tr>\n",
       "      <td>2</td>\n",
       "      <td>0.00</td>\n",
       "      <td>3.613319</td>\n",
       "    </tr>\n",
       "    <tr>\n",
       "      <td>3</td>\n",
       "      <td>0.33</td>\n",
       "      <td>3.277864</td>\n",
       "    </tr>\n",
       "    <tr>\n",
       "      <td>4</td>\n",
       "      <td>0.00</td>\n",
       "      <td>4.135615</td>\n",
       "    </tr>\n",
       "    <tr>\n",
       "      <td>5</td>\n",
       "      <td>28.47</td>\n",
       "      <td>8.813940</td>\n",
       "    </tr>\n",
       "    <tr>\n",
       "      <td>6</td>\n",
       "      <td>2.60</td>\n",
       "      <td>3.398946</td>\n",
       "    </tr>\n",
       "    <tr>\n",
       "      <td>7</td>\n",
       "      <td>1.00</td>\n",
       "      <td>2.857180</td>\n",
       "    </tr>\n",
       "    <tr>\n",
       "      <td>8</td>\n",
       "      <td>33.59</td>\n",
       "      <td>11.490340</td>\n",
       "    </tr>\n",
       "    <tr>\n",
       "      <td>9</td>\n",
       "      <td>1.66</td>\n",
       "      <td>0.956192</td>\n",
       "    </tr>\n",
       "    <tr>\n",
       "      <td>10</td>\n",
       "      <td>5.53</td>\n",
       "      <td>3.301120</td>\n",
       "    </tr>\n",
       "    <tr>\n",
       "      <td>11</td>\n",
       "      <td>0.00</td>\n",
       "      <td>4.027990</td>\n",
       "    </tr>\n",
       "    <tr>\n",
       "      <td>12</td>\n",
       "      <td>0.00</td>\n",
       "      <td>3.945689</td>\n",
       "    </tr>\n",
       "    <tr>\n",
       "      <td>13</td>\n",
       "      <td>0.52</td>\n",
       "      <td>2.515155</td>\n",
       "    </tr>\n",
       "    <tr>\n",
       "      <td>14</td>\n",
       "      <td>0.00</td>\n",
       "      <td>3.977343</td>\n",
       "    </tr>\n",
       "    <tr>\n",
       "      <td>15</td>\n",
       "      <td>3.99</td>\n",
       "      <td>3.548598</td>\n",
       "    </tr>\n",
       "    <tr>\n",
       "      <td>16</td>\n",
       "      <td>0.00</td>\n",
       "      <td>3.996336</td>\n",
       "    </tr>\n",
       "    <tr>\n",
       "      <td>17</td>\n",
       "      <td>3.51</td>\n",
       "      <td>4.100954</td>\n",
       "    </tr>\n",
       "    <tr>\n",
       "      <td>18</td>\n",
       "      <td>8.13</td>\n",
       "      <td>4.380707</td>\n",
       "    </tr>\n",
       "    <tr>\n",
       "      <td>19</td>\n",
       "      <td>2.99</td>\n",
       "      <td>4.069300</td>\n",
       "    </tr>\n",
       "    <tr>\n",
       "      <td>20</td>\n",
       "      <td>6.03</td>\n",
       "      <td>4.167827</td>\n",
       "    </tr>\n",
       "    <tr>\n",
       "      <td>21</td>\n",
       "      <td>0.23</td>\n",
       "      <td>-1.007886</td>\n",
       "    </tr>\n",
       "    <tr>\n",
       "      <td>22</td>\n",
       "      <td>0.00</td>\n",
       "      <td>2.790308</td>\n",
       "    </tr>\n",
       "    <tr>\n",
       "      <td>23</td>\n",
       "      <td>0.65</td>\n",
       "      <td>2.879179</td>\n",
       "    </tr>\n",
       "    <tr>\n",
       "      <td>24</td>\n",
       "      <td>0.00</td>\n",
       "      <td>3.518356</td>\n",
       "    </tr>\n",
       "  </tbody>\n",
       "</table>\n",
       "</div>"
      ],
      "text/plain": [
       "    Original    Predict\n",
       "0       0.00   3.765260\n",
       "1       0.00   4.138780\n",
       "2       0.00   3.613319\n",
       "3       0.33   3.277864\n",
       "4       0.00   4.135615\n",
       "5      28.47   8.813940\n",
       "6       2.60   3.398946\n",
       "7       1.00   2.857180\n",
       "8      33.59  11.490340\n",
       "9       1.66   0.956192\n",
       "10      5.53   3.301120\n",
       "11      0.00   4.027990\n",
       "12      0.00   3.945689\n",
       "13      0.52   2.515155\n",
       "14      0.00   3.977343\n",
       "15      3.99   3.548598\n",
       "16      0.00   3.996336\n",
       "17      3.51   4.100954\n",
       "18      8.13   4.380707\n",
       "19      2.99   4.069300\n",
       "20      6.03   4.167827\n",
       "21      0.23  -1.007886\n",
       "22      0.00   2.790308\n",
       "23      0.65   2.879179\n",
       "24      0.00   3.518356"
      ]
     },
     "execution_count": 23,
     "metadata": {},
     "output_type": "execute_result"
    }
   ],
   "source": [
    "y_prediction = line1.predict(X_test)           #taking the Y prediction for testing results\n",
    "\n",
    "newdatalist = pd.DataFrame({'Original': Y_test, 'Predict': y_prediction}) #making new datalist to make the ouptut clearer\n",
    "newdatalist1 = newdatalist.head(25) #output the datalist to compare results for both values\n",
    "\n",
    "newdatalist1 #outputting"
   ]
  },
  {
   "cell_type": "code",
   "execution_count": 33,
   "metadata": {},
   "outputs": [
    {
     "data": {
      "image/png": "[encoded data removed]",
      "text/plain": [
       "<Figure size 720x576 with 1 Axes>"
      ]
     },
     "metadata": {
      "needs_background": "light"
     },
     "output_type": "display_data"
    }
   ],
   "source": [
    "newdatalist1.plot(kind='bar',figsize=(10,8))         # plotting the graph and adjusting the figure values\n",
    "plt.grid(which ='major', linestyle='-', linewidth='1.0', color='black')  # \n",
    "plt.grid(which ='minor', linestyle=':', linewidth='1.0', color='yellow') #\n",
    "plt.show() #outputting graph"
   ]
  },
  {
   "cell_type": "code",
   "execution_count": 26,
   "metadata": {},
   "outputs": [
    {
     "name": "stdout",
     "output_type": "stream",
     "text": [
      "Mean Squared Error: 39.55300239241981\n"
     ]
    }
   ],
   "source": [
    "print('Mean Squared Error:', metrics.mean_squared_error(Y_test, y_prediction)) #calculating mean squared error"
   ]
  },
  {
   "cell_type": "code",
   "execution_count": null,
   "metadata": {},
   "outputs": [],
   "source": []
  }
 ],
 "metadata": {
  "kernelspec": {
   "display_name": "Python 3",
   "language": "python",
   "name": "python3"
  },
  "language_info": {
   "codemirror_mode": {
    "name": "ipython",
    "version": 3
   },
   "file_extension": ".py",
   "mimetype": "text/x-python",
   "name": "python",
   "nbconvert_exporter": "python",
   "pygments_lexer": "ipython3",
   "version": "3.7.4"
  }
 },
 "nbformat": 4,
 "nbformat_minor": 2
}
