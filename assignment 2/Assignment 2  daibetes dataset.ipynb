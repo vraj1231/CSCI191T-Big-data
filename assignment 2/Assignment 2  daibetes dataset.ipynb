{
 "cells": [
  {
   "cell_type": "code",
   "execution_count": 207,
   "metadata": {},
   "outputs": [
    {
     "name": "stdout",
     "output_type": "stream",
     "text": [
      "(442, 11)\n"
     ]
    },
    {
     "data": {
      "text/html": [
       "<div>\n",
       "<style scoped>\n",
       "    .dataframe tbody tr th:only-of-type {\n",
       "        vertical-align: middle;\n",
       "    }\n",
       "\n",
       "    .dataframe tbody tr th {\n",
       "        vertical-align: top;\n",
       "    }\n",
       "\n",
       "    .dataframe thead th {\n",
       "        text-align: right;\n",
       "    }\n",
       "</style>\n",
       "<table border=\"1\" class=\"dataframe\">\n",
       "  <thead>\n",
       "    <tr style=\"text-align: right;\">\n",
       "      <th></th>\n",
       "      <th>AGE</th>\n",
       "      <th>SEX</th>\n",
       "      <th>BMI</th>\n",
       "      <th>BP</th>\n",
       "      <th>S1</th>\n",
       "      <th>S2</th>\n",
       "      <th>S3</th>\n",
       "      <th>S4</th>\n",
       "      <th>S5</th>\n",
       "      <th>S6</th>\n",
       "      <th>Y</th>\n",
       "    </tr>\n",
       "  </thead>\n",
       "  <tbody>\n",
       "    <tr>\n",
       "      <td>0</td>\n",
       "      <td>59</td>\n",
       "      <td>2</td>\n",
       "      <td>32.1</td>\n",
       "      <td>101.0</td>\n",
       "      <td>157</td>\n",
       "      <td>93.2</td>\n",
       "      <td>38.0</td>\n",
       "      <td>4.0</td>\n",
       "      <td>4.8598</td>\n",
       "      <td>87</td>\n",
       "      <td>151</td>\n",
       "    </tr>\n",
       "    <tr>\n",
       "      <td>1</td>\n",
       "      <td>48</td>\n",
       "      <td>1</td>\n",
       "      <td>21.6</td>\n",
       "      <td>87.0</td>\n",
       "      <td>183</td>\n",
       "      <td>103.2</td>\n",
       "      <td>70.0</td>\n",
       "      <td>3.0</td>\n",
       "      <td>3.8918</td>\n",
       "      <td>69</td>\n",
       "      <td>75</td>\n",
       "    </tr>\n",
       "    <tr>\n",
       "      <td>2</td>\n",
       "      <td>72</td>\n",
       "      <td>2</td>\n",
       "      <td>30.5</td>\n",
       "      <td>93.0</td>\n",
       "      <td>156</td>\n",
       "      <td>93.6</td>\n",
       "      <td>41.0</td>\n",
       "      <td>4.0</td>\n",
       "      <td>4.6728</td>\n",
       "      <td>85</td>\n",
       "      <td>141</td>\n",
       "    </tr>\n",
       "    <tr>\n",
       "      <td>3</td>\n",
       "      <td>24</td>\n",
       "      <td>1</td>\n",
       "      <td>25.3</td>\n",
       "      <td>84.0</td>\n",
       "      <td>198</td>\n",
       "      <td>131.4</td>\n",
       "      <td>40.0</td>\n",
       "      <td>5.0</td>\n",
       "      <td>4.8903</td>\n",
       "      <td>89</td>\n",
       "      <td>206</td>\n",
       "    </tr>\n",
       "    <tr>\n",
       "      <td>4</td>\n",
       "      <td>50</td>\n",
       "      <td>1</td>\n",
       "      <td>23.0</td>\n",
       "      <td>101.0</td>\n",
       "      <td>192</td>\n",
       "      <td>125.4</td>\n",
       "      <td>52.0</td>\n",
       "      <td>4.0</td>\n",
       "      <td>4.2905</td>\n",
       "      <td>80</td>\n",
       "      <td>135</td>\n",
       "    </tr>\n",
       "  </tbody>\n",
       "</table>\n",
       "</div>"
      ],
      "text/plain": [
       "   AGE  SEX   BMI     BP   S1     S2    S3   S4      S5  S6    Y\n",
       "0   59    2  32.1  101.0  157   93.2  38.0  4.0  4.8598  87  151\n",
       "1   48    1  21.6   87.0  183  103.2  70.0  3.0  3.8918  69   75\n",
       "2   72    2  30.5   93.0  156   93.6  41.0  4.0  4.6728  85  141\n",
       "3   24    1  25.3   84.0  198  131.4  40.0  5.0  4.8903  89  206\n",
       "4   50    1  23.0  101.0  192  125.4  52.0  4.0  4.2905  80  135"
      ]
     },
     "execution_count": 207,
     "metadata": {},
     "output_type": "execute_result"
    }
   ],
   "source": [
    "\"\"\"\n",
    "Vraj Mistry\n",
    "109951458\n",
    "Assignment 2 \n",
    "\"\"\"\n",
    "#part 1\n",
    "import matplotlib.pyplot as plt                   \n",
    "import numpy as np                              \n",
    "import pandas as pd\n",
    "import statistics as st\n",
    "import random\n",
    "\n",
    "dataList = pd.read_csv('diabetes.tab.csv')         #reading the file \"diabetes.tab.csv\" from computer \n",
    "\n",
    "\n",
    "print(dataList.shape)                      #shaping the data \n",
    "dataList.head()                            #checking weather we have correct data or not"
   ]
  },
  {
   "cell_type": "code",
   "execution_count": 208,
   "metadata": {},
   "outputs": [
    {
     "data": {
      "text/plain": [
       "152.13348416289594"
      ]
     },
     "execution_count": 208,
     "metadata": {},
     "output_type": "execute_result"
    }
   ],
   "source": [
    "#part 2a\n",
    "dataList[\"Y\"].mean()        #mean of designated as Y in the dataset"
   ]
  },
  {
   "cell_type": "code",
   "execution_count": 209,
   "metadata": {},
   "outputs": [
    {
     "data": {
      "text/plain": [
       "140.5"
      ]
     },
     "execution_count": 209,
     "metadata": {},
     "output_type": "execute_result"
    }
   ],
   "source": [
    "dataList[\"Y\"].median()     #median of designated as Y in the dataset"
   ]
  },
  {
   "cell_type": "code",
   "execution_count": 210,
   "metadata": {},
   "outputs": [
    {
     "data": {
      "text/plain": [
       "0     72\n",
       "1    200\n",
       "dtype: int64"
      ]
     },
     "execution_count": 210,
     "metadata": {},
     "output_type": "execute_result"
    }
   ],
   "source": [
    "dataList[\"Y\"].mode()      #mode of designated as Y in the dataset"
   ]
  },
  {
   "cell_type": "code",
   "execution_count": 211,
   "metadata": {},
   "outputs": [
    {
     "data": {
      "text/plain": [
       "5943.331347923785"
      ]
     },
     "execution_count": 211,
     "metadata": {},
     "output_type": "execute_result"
    }
   ],
   "source": [
    "dataList[\"Y\"].var()       #variance of designated as Y in the dataset"
   ]
  },
  {
   "cell_type": "code",
   "execution_count": 212,
   "metadata": {},
   "outputs": [
    {
     "data": {
      "text/plain": [
       "count    442.000000\n",
       "mean     152.133484\n",
       "std       77.093005\n",
       "min       25.000000\n",
       "25%       87.000000\n",
       "50%      140.500000\n",
       "75%      211.500000\n",
       "max      346.000000\n",
       "Name: Y, dtype: float64"
      ]
     },
     "execution_count": 212,
     "metadata": {},
     "output_type": "execute_result"
    }
   ],
   "source": [
    "dataList['Y'].describe()         #dispersion of designated as Y in the dataset"
   ]
  },
  {
   "cell_type": "code",
   "execution_count": 213,
   "metadata": {},
   "outputs": [
    {
     "data": {
      "text/plain": [
       "48.51809954751131"
      ]
     },
     "execution_count": 213,
     "metadata": {},
     "output_type": "execute_result"
    }
   ],
   "source": [
    "#part2b\n",
    "dataList[\"AGE\"].mean()              #mean of designated as AGE in the dataset"
   ]
  },
  {
   "cell_type": "code",
   "execution_count": 214,
   "metadata": {},
   "outputs": [
    {
     "data": {
      "text/plain": [
       "26.37579185520364"
      ]
     },
     "execution_count": 214,
     "metadata": {},
     "output_type": "execute_result"
    }
   ],
   "source": [
    "dataList[\"BMI\"].mean()              #mean of designated as BMI in the dataset"
   ]
  },
  {
   "cell_type": "code",
   "execution_count": 215,
   "metadata": {},
   "outputs": [
    {
     "data": {
      "text/plain": [
       "94.64701357466065"
      ]
     },
     "execution_count": 215,
     "metadata": {},
     "output_type": "execute_result"
    }
   ],
   "source": [
    "dataList[\"BP\"].mean()               #mean of designated as BP in the dataset"
   ]
  },
  {
   "cell_type": "code",
   "execution_count": 216,
   "metadata": {},
   "outputs": [
    {
     "data": {
      "text/plain": [
       "50.0"
      ]
     },
     "execution_count": 216,
     "metadata": {},
     "output_type": "execute_result"
    }
   ],
   "source": [
    "dataList[\"AGE\"].median()             #median of designated as AGE in the dataset"
   ]
  },
  {
   "cell_type": "code",
   "execution_count": 217,
   "metadata": {},
   "outputs": [
    {
     "data": {
      "text/plain": [
       "25.7"
      ]
     },
     "execution_count": 217,
     "metadata": {},
     "output_type": "execute_result"
    }
   ],
   "source": [
    "dataList[\"BMI\"].median()            #median of designated as BMI in the dataset"
   ]
  },
  {
   "cell_type": "code",
   "execution_count": 218,
   "metadata": {},
   "outputs": [
    {
     "data": {
      "text/plain": [
       "93.0"
      ]
     },
     "execution_count": 218,
     "metadata": {},
     "output_type": "execute_result"
    }
   ],
   "source": [
    "dataList[\"BP\"].median()            #median of designated as BP in the dataset"
   ]
  },
  {
   "cell_type": "code",
   "execution_count": 219,
   "metadata": {},
   "outputs": [
    {
     "data": {
      "text/plain": [
       "0    53\n",
       "dtype: int64"
      ]
     },
     "execution_count": 219,
     "metadata": {},
     "output_type": "execute_result"
    }
   ],
   "source": [
    "dataList[\"AGE\"].mode()            #Mode of designated as AGE in the dataset"
   ]
  },
  {
   "cell_type": "code",
   "execution_count": 220,
   "metadata": {},
   "outputs": [
    {
     "data": {
      "text/plain": [
       "0    23.5\n",
       "1    24.1\n",
       "dtype: float64"
      ]
     },
     "execution_count": 220,
     "metadata": {},
     "output_type": "execute_result"
    }
   ],
   "source": [
    "dataList[\"BMI\"].mode()            #Mode of designated as BMI in the dataset"
   ]
  },
  {
   "cell_type": "code",
   "execution_count": 221,
   "metadata": {},
   "outputs": [
    {
     "data": {
      "text/plain": [
       "0    83.0\n",
       "1    93.0\n",
       "dtype: float64"
      ]
     },
     "execution_count": 221,
     "metadata": {},
     "output_type": "execute_result"
    }
   ],
   "source": [
    "dataList[\"BP\"].mode()            #Mode of designated as BP in the dataset"
   ]
  },
  {
   "cell_type": "code",
   "execution_count": 222,
   "metadata": {},
   "outputs": [
    {
     "data": {
      "text/plain": [
       "count    442.000000\n",
       "mean      48.518100\n",
       "std       13.109028\n",
       "min       19.000000\n",
       "25%       38.250000\n",
       "50%       50.000000\n",
       "75%       59.000000\n",
       "max       79.000000\n",
       "Name: AGE, dtype: float64"
      ]
     },
     "execution_count": 222,
     "metadata": {},
     "output_type": "execute_result"
    }
   ],
   "source": [
    "dataList[\"AGE\"].describe()         #dispersion of designated Age column"
   ]
  },
  {
   "cell_type": "code",
   "execution_count": 223,
   "metadata": {},
   "outputs": [
    {
     "data": {
      "text/plain": [
       "count    442.000000\n",
       "mean      26.375792\n",
       "std        4.418122\n",
       "min       18.000000\n",
       "25%       23.200000\n",
       "50%       25.700000\n",
       "75%       29.275000\n",
       "max       42.200000\n",
       "Name: BMI, dtype: float64"
      ]
     },
     "execution_count": 223,
     "metadata": {},
     "output_type": "execute_result"
    }
   ],
   "source": [
    "dataList[\"BMI\"].describe()         #dispersion of designated BMI column"
   ]
  },
  {
   "cell_type": "code",
   "execution_count": 224,
   "metadata": {},
   "outputs": [
    {
     "data": {
      "text/plain": [
       "count    442.000000\n",
       "mean      94.647014\n",
       "std       13.831283\n",
       "min       62.000000\n",
       "25%       84.000000\n",
       "50%       93.000000\n",
       "75%      105.000000\n",
       "max      133.000000\n",
       "Name: BP, dtype: float64"
      ]
     },
     "execution_count": 224,
     "metadata": {},
     "output_type": "execute_result"
    }
   ],
   "source": [
    "dataList[\"BP\"].describe()         #dispersion of designated BP column"
   ]
  },
  {
   "cell_type": "code",
   "execution_count": 235,
   "metadata": {},
   "outputs": [
    {
     "data": {
      "image/png": "[encoded data removed]",
      "text/plain": [
       "<Figure size 432x288 with 1 Axes>"
      ]
     },
     "metadata": {
      "needs_background": "light"
     },
     "output_type": "display_data"
    }
   ],
   "source": [
    "#part 2c\n",
    "dataList.plot(x='AGE', y='BMI',style = '*') #graph of column x axis=\"AGE\" vs  y axis = column  \"BMI\" and type of graph is bar\n",
    "plt.xlabel(\"AGE\")  #lableing X\n",
    "plt.ylabel(\"BMI\") #labeling Y\n",
    "plt.title(\"Age vs BMI graph\")               #graph title \n",
    "plt.show()           #showing the graph"
   ]
  },
  {
   "cell_type": "code",
   "execution_count": 236,
   "metadata": {
    "scrolled": true
   },
   "outputs": [
    {
     "data": {
      "image/png": "[encoded data removed]",
      "text/plain": [
       "<Figure size 432x288 with 1 Axes>"
      ]
     },
     "metadata": {
      "needs_background": "light"
     },
     "output_type": "display_data"
    }
   ],
   "source": [
    "dataList.plot(x='Y', y='BMI',style = \"*\")#graph of column x axis=\"AGE\" vs  y axis = column  \"BMI\" and type of graph is bar\n",
    "plt.xlabel(\"Y\") # labeling X\n",
    "plt.ylabel(\"BMI\") #labeling Y\n",
    "plt.title(\"Y vs BMI graph\")               #graph title \n",
    "plt.show()           #showing the graph"
   ]
  },
  {
   "cell_type": "code",
   "execution_count": 227,
   "metadata": {
    "scrolled": true
   },
   "outputs": [
    {
     "data": {
      "text/html": [
       "<div>\n",
       "<style scoped>\n",
       "    .dataframe tbody tr th:only-of-type {\n",
       "        vertical-align: middle;\n",
       "    }\n",
       "\n",
       "    .dataframe tbody tr th {\n",
       "        vertical-align: top;\n",
       "    }\n",
       "\n",
       "    .dataframe thead th {\n",
       "        text-align: right;\n",
       "    }\n",
       "</style>\n",
       "<table border=\"1\" class=\"dataframe\">\n",
       "  <thead>\n",
       "    <tr style=\"text-align: right;\">\n",
       "      <th></th>\n",
       "      <th>AGE</th>\n",
       "      <th>SEX</th>\n",
       "      <th>BMI</th>\n",
       "      <th>BP</th>\n",
       "      <th>S1</th>\n",
       "      <th>S2</th>\n",
       "      <th>S3</th>\n",
       "      <th>S4</th>\n",
       "      <th>S5</th>\n",
       "      <th>S6</th>\n",
       "      <th>Y</th>\n",
       "    </tr>\n",
       "  </thead>\n",
       "  <tbody>\n",
       "    <tr>\n",
       "      <td>AGE</td>\n",
       "      <td>1.000000</td>\n",
       "      <td>0.173737</td>\n",
       "      <td>0.185085</td>\n",
       "      <td>0.335428</td>\n",
       "      <td>0.260061</td>\n",
       "      <td>0.219243</td>\n",
       "      <td>-0.075181</td>\n",
       "      <td>0.203841</td>\n",
       "      <td>0.270774</td>\n",
       "      <td>0.301731</td>\n",
       "      <td>0.187889</td>\n",
       "    </tr>\n",
       "    <tr>\n",
       "      <td>SEX</td>\n",
       "      <td>0.173737</td>\n",
       "      <td>1.000000</td>\n",
       "      <td>0.088161</td>\n",
       "      <td>0.241010</td>\n",
       "      <td>0.035277</td>\n",
       "      <td>0.142637</td>\n",
       "      <td>-0.379090</td>\n",
       "      <td>0.332115</td>\n",
       "      <td>0.149916</td>\n",
       "      <td>0.208133</td>\n",
       "      <td>0.043062</td>\n",
       "    </tr>\n",
       "    <tr>\n",
       "      <td>BMI</td>\n",
       "      <td>0.185085</td>\n",
       "      <td>0.088161</td>\n",
       "      <td>1.000000</td>\n",
       "      <td>0.395411</td>\n",
       "      <td>0.249777</td>\n",
       "      <td>0.261170</td>\n",
       "      <td>-0.366811</td>\n",
       "      <td>0.413807</td>\n",
       "      <td>0.446157</td>\n",
       "      <td>0.388680</td>\n",
       "      <td>0.586450</td>\n",
       "    </tr>\n",
       "    <tr>\n",
       "      <td>BP</td>\n",
       "      <td>0.335428</td>\n",
       "      <td>0.241010</td>\n",
       "      <td>0.395411</td>\n",
       "      <td>1.000000</td>\n",
       "      <td>0.242464</td>\n",
       "      <td>0.185548</td>\n",
       "      <td>-0.178762</td>\n",
       "      <td>0.257650</td>\n",
       "      <td>0.393480</td>\n",
       "      <td>0.390430</td>\n",
       "      <td>0.441482</td>\n",
       "    </tr>\n",
       "    <tr>\n",
       "      <td>S1</td>\n",
       "      <td>0.260061</td>\n",
       "      <td>0.035277</td>\n",
       "      <td>0.249777</td>\n",
       "      <td>0.242464</td>\n",
       "      <td>1.000000</td>\n",
       "      <td>0.896663</td>\n",
       "      <td>0.051519</td>\n",
       "      <td>0.542207</td>\n",
       "      <td>0.515503</td>\n",
       "      <td>0.325717</td>\n",
       "      <td>0.212022</td>\n",
       "    </tr>\n",
       "    <tr>\n",
       "      <td>S2</td>\n",
       "      <td>0.219243</td>\n",
       "      <td>0.142637</td>\n",
       "      <td>0.261170</td>\n",
       "      <td>0.185548</td>\n",
       "      <td>0.896663</td>\n",
       "      <td>1.000000</td>\n",
       "      <td>-0.196455</td>\n",
       "      <td>0.659817</td>\n",
       "      <td>0.318357</td>\n",
       "      <td>0.290600</td>\n",
       "      <td>0.174054</td>\n",
       "    </tr>\n",
       "    <tr>\n",
       "      <td>S3</td>\n",
       "      <td>-0.075181</td>\n",
       "      <td>-0.379090</td>\n",
       "      <td>-0.366811</td>\n",
       "      <td>-0.178762</td>\n",
       "      <td>0.051519</td>\n",
       "      <td>-0.196455</td>\n",
       "      <td>1.000000</td>\n",
       "      <td>-0.738493</td>\n",
       "      <td>-0.398577</td>\n",
       "      <td>-0.273697</td>\n",
       "      <td>-0.394789</td>\n",
       "    </tr>\n",
       "    <tr>\n",
       "      <td>S4</td>\n",
       "      <td>0.203841</td>\n",
       "      <td>0.332115</td>\n",
       "      <td>0.413807</td>\n",
       "      <td>0.257650</td>\n",
       "      <td>0.542207</td>\n",
       "      <td>0.659817</td>\n",
       "      <td>-0.738493</td>\n",
       "      <td>1.000000</td>\n",
       "      <td>0.617859</td>\n",
       "      <td>0.417212</td>\n",
       "      <td>0.430453</td>\n",
       "    </tr>\n",
       "    <tr>\n",
       "      <td>S5</td>\n",
       "      <td>0.270774</td>\n",
       "      <td>0.149916</td>\n",
       "      <td>0.446157</td>\n",
       "      <td>0.393480</td>\n",
       "      <td>0.515503</td>\n",
       "      <td>0.318357</td>\n",
       "      <td>-0.398577</td>\n",
       "      <td>0.617859</td>\n",
       "      <td>1.000000</td>\n",
       "      <td>0.464669</td>\n",
       "      <td>0.565883</td>\n",
       "    </tr>\n",
       "    <tr>\n",
       "      <td>S6</td>\n",
       "      <td>0.301731</td>\n",
       "      <td>0.208133</td>\n",
       "      <td>0.388680</td>\n",
       "      <td>0.390430</td>\n",
       "      <td>0.325717</td>\n",
       "      <td>0.290600</td>\n",
       "      <td>-0.273697</td>\n",
       "      <td>0.417212</td>\n",
       "      <td>0.464669</td>\n",
       "      <td>1.000000</td>\n",
       "      <td>0.382483</td>\n",
       "    </tr>\n",
       "    <tr>\n",
       "      <td>Y</td>\n",
       "      <td>0.187889</td>\n",
       "      <td>0.043062</td>\n",
       "      <td>0.586450</td>\n",
       "      <td>0.441482</td>\n",
       "      <td>0.212022</td>\n",
       "      <td>0.174054</td>\n",
       "      <td>-0.394789</td>\n",
       "      <td>0.430453</td>\n",
       "      <td>0.565883</td>\n",
       "      <td>0.382483</td>\n",
       "      <td>1.000000</td>\n",
       "    </tr>\n",
       "  </tbody>\n",
       "</table>\n",
       "</div>"
      ],
      "text/plain": [
       "          AGE       SEX       BMI        BP        S1        S2        S3  \\\n",
       "AGE  1.000000  0.173737  0.185085  0.335428  0.260061  0.219243 -0.075181   \n",
       "SEX  0.173737  1.000000  0.088161  0.241010  0.035277  0.142637 -0.379090   \n",
       "BMI  0.185085  0.088161  1.000000  0.395411  0.249777  0.261170 -0.366811   \n",
       "BP   0.335428  0.241010  0.395411  1.000000  0.242464  0.185548 -0.178762   \n",
       "S1   0.260061  0.035277  0.249777  0.242464  1.000000  0.896663  0.051519   \n",
       "S2   0.219243  0.142637  0.261170  0.185548  0.896663  1.000000 -0.196455   \n",
       "S3  -0.075181 -0.379090 -0.366811 -0.178762  0.051519 -0.196455  1.000000   \n",
       "S4   0.203841  0.332115  0.413807  0.257650  0.542207  0.659817 -0.738493   \n",
       "S5   0.270774  0.149916  0.446157  0.393480  0.515503  0.318357 -0.398577   \n",
       "S6   0.301731  0.208133  0.388680  0.390430  0.325717  0.290600 -0.273697   \n",
       "Y    0.187889  0.043062  0.586450  0.441482  0.212022  0.174054 -0.394789   \n",
       "\n",
       "           S4        S5        S6         Y  \n",
       "AGE  0.203841  0.270774  0.301731  0.187889  \n",
       "SEX  0.332115  0.149916  0.208133  0.043062  \n",
       "BMI  0.413807  0.446157  0.388680  0.586450  \n",
       "BP   0.257650  0.393480  0.390430  0.441482  \n",
       "S1   0.542207  0.515503  0.325717  0.212022  \n",
       "S2   0.659817  0.318357  0.290600  0.174054  \n",
       "S3  -0.738493 -0.398577 -0.273697 -0.394789  \n",
       "S4   1.000000  0.617859  0.417212  0.430453  \n",
       "S5   0.617859  1.000000  0.464669  0.565883  \n",
       "S6   0.417212  0.464669  1.000000  0.382483  \n",
       "Y    0.430453  0.565883  0.382483  1.000000  "
      ]
     },
     "execution_count": 227,
     "metadata": {},
     "output_type": "execute_result"
    }
   ],
   "source": [
    "dataList.corr()                   # Check correlation of data prior to doing the analysis"
   ]
  },
  {
   "cell_type": "code",
   "execution_count": 228,
   "metadata": {
    "scrolled": false
   },
   "outputs": [
    {
     "data": {
      "text/plain": [
       "LinearRegression(copy_X=True, fit_intercept=True, n_jobs=None, normalize=False)"
      ]
     },
     "execution_count": 228,
     "metadata": {},
     "output_type": "execute_result"
    },
    {
     "data": {
      "image/png": "[encoded data removed]",
      "text/plain": [
       "<Figure size 1080x720 with 1 Axes>"
      ]
     },
     "metadata": {
      "needs_background": "light"
     },
     "output_type": "display_data"
    }
   ],
   "source": [
    "#Linear Regression \n",
    "import math as sqrt\n",
    "import pandas as pd  \n",
    "import numpy as np  \n",
    "import matplotlib.pyplot as plt  \n",
    "import seaborn as seabornInstance \n",
    "from sklearn.model_selection import train_test_split \n",
    "from sklearn.linear_model import LinearRegression\n",
    "from sklearn import metrics\n",
    "%matplotlib inline\n",
    "\n",
    "X = dataList[[\"BMI\", \"BP\"]].values        # X plot for BMI, BP to get the result of both predictors on Y \n",
    "Y = dataList[\"Y\"].values                  # Y plot for Y column \n",
    "\n",
    "\n",
    "plt.figure(figsize=(15,10))              #  adjusting figure size \n",
    "plt.tight_layout()                     # making sure if the data is big it will be in the image \n",
    "seabornInstance.distplot(dataList['Y'])      # looking for the average values expected in column Y\n",
    "\n",
    "X_train, X_test, Y_train, Y_test = train_test_split(X, Y, test_size=0.4, random_state=0) #training the cases and to compare result\n",
    "\n",
    "line1 = LinearRegression()        # doing Linear regression\n",
    "line1.fit(X_train,Y_train)      #using the fit function to make sure the graph is fit\n",
    "\n",
    "\n",
    "\n",
    "\n"
   ]
  },
  {
   "cell_type": "code",
   "execution_count": 229,
   "metadata": {},
   "outputs": [
    {
     "data": {
      "text/html": [
       "<div>\n",
       "<style scoped>\n",
       "    .dataframe tbody tr th:only-of-type {\n",
       "        vertical-align: middle;\n",
       "    }\n",
       "\n",
       "    .dataframe tbody tr th {\n",
       "        vertical-align: top;\n",
       "    }\n",
       "\n",
       "    .dataframe thead th {\n",
       "        text-align: right;\n",
       "    }\n",
       "</style>\n",
       "<table border=\"1\" class=\"dataframe\">\n",
       "  <thead>\n",
       "    <tr style=\"text-align: right;\">\n",
       "      <th></th>\n",
       "      <th>Coeff</th>\n",
       "    </tr>\n",
       "  </thead>\n",
       "  <tbody>\n",
       "    <tr>\n",
       "      <td>BMI</td>\n",
       "      <td>8.857663</td>\n",
       "    </tr>\n",
       "    <tr>\n",
       "      <td>BP</td>\n",
       "      <td>1.613728</td>\n",
       "    </tr>\n",
       "  </tbody>\n",
       "</table>\n",
       "</div>"
      ],
      "text/plain": [
       "        Coeff\n",
       "BMI  8.857663\n",
       "BP   1.613728"
      ]
     },
     "execution_count": 229,
     "metadata": {},
     "output_type": "execute_result"
    }
   ],
   "source": [
    "#plt.scatter(line1.predict(X_train), line1.predict(X_train) - Y_train, color = \"green\", s = 10, label = 'train data')\n",
    "#plt.scatter(line1.predict(X_test), line1.predict(X_test) - Y_test, color = \"blue\", s = 10, label = 'test data')\n",
    "\n",
    "coeff_datalist = pd.DataFrame(line1.coef_,[\"BMI\",\"BP\"], columns = [\"Coeff\"])     #checking the coefficent to see what train and actual values are\n",
    "coeff_datalist\n",
    "\n",
    "#print('Coefficients: \\n', line1.coef_) \n",
    "  \n",
    "# variance score: 1 means perfect prediction \n",
    "#print('Variance score: {}'.format(line1.score(X_test, Y_test))) \n",
    "\n",
    "\n",
    "## plotting line for zero residual error \n",
    "#plt.hlines(y = 0, xmin = 0, xmax = 350, linewidth = 2) \n",
    "\n",
    "#plt.legend(loc = 'upper right')\n",
    "\n",
    "#plt.show()"
   ]
  },
  {
   "cell_type": "code",
   "execution_count": 230,
   "metadata": {},
   "outputs": [
    {
     "data": {
      "text/html": [
       "<div>\n",
       "<style scoped>\n",
       "    .dataframe tbody tr th:only-of-type {\n",
       "        vertical-align: middle;\n",
       "    }\n",
       "\n",
       "    .dataframe tbody tr th {\n",
       "        vertical-align: top;\n",
       "    }\n",
       "\n",
       "    .dataframe thead th {\n",
       "        text-align: right;\n",
       "    }\n",
       "</style>\n",
       "<table border=\"1\" class=\"dataframe\">\n",
       "  <thead>\n",
       "    <tr style=\"text-align: right;\">\n",
       "      <th></th>\n",
       "      <th>Original</th>\n",
       "      <th>Predict</th>\n",
       "    </tr>\n",
       "  </thead>\n",
       "  <tbody>\n",
       "    <tr>\n",
       "      <td>0</td>\n",
       "      <td>321</td>\n",
       "      <td>272.303580</td>\n",
       "    </tr>\n",
       "    <tr>\n",
       "      <td>1</td>\n",
       "      <td>215</td>\n",
       "      <td>227.918520</td>\n",
       "    </tr>\n",
       "    <tr>\n",
       "      <td>2</td>\n",
       "      <td>127</td>\n",
       "      <td>180.560553</td>\n",
       "    </tr>\n",
       "    <tr>\n",
       "      <td>3</td>\n",
       "      <td>64</td>\n",
       "      <td>115.258087</td>\n",
       "    </tr>\n",
       "    <tr>\n",
       "      <td>4</td>\n",
       "      <td>175</td>\n",
       "      <td>233.268802</td>\n",
       "    </tr>\n",
       "    <tr>\n",
       "      <td>5</td>\n",
       "      <td>275</td>\n",
       "      <td>230.601196</td>\n",
       "    </tr>\n",
       "    <tr>\n",
       "      <td>6</td>\n",
       "      <td>179</td>\n",
       "      <td>125.352809</td>\n",
       "    </tr>\n",
       "    <tr>\n",
       "      <td>7</td>\n",
       "      <td>232</td>\n",
       "      <td>195.302971</td>\n",
       "    </tr>\n",
       "    <tr>\n",
       "      <td>8</td>\n",
       "      <td>142</td>\n",
       "      <td>185.488175</td>\n",
       "    </tr>\n",
       "    <tr>\n",
       "      <td>9</td>\n",
       "      <td>99</td>\n",
       "      <td>198.652548</td>\n",
       "    </tr>\n",
       "    <tr>\n",
       "      <td>10</td>\n",
       "      <td>252</td>\n",
       "      <td>94.982206</td>\n",
       "    </tr>\n",
       "    <tr>\n",
       "      <td>11</td>\n",
       "      <td>174</td>\n",
       "      <td>184.128995</td>\n",
       "    </tr>\n",
       "    <tr>\n",
       "      <td>12</td>\n",
       "      <td>129</td>\n",
       "      <td>100.515669</td>\n",
       "    </tr>\n",
       "    <tr>\n",
       "      <td>13</td>\n",
       "      <td>74</td>\n",
       "      <td>69.223616</td>\n",
       "    </tr>\n",
       "    <tr>\n",
       "      <td>14</td>\n",
       "      <td>264</td>\n",
       "      <td>259.017085</td>\n",
       "    </tr>\n",
       "    <tr>\n",
       "      <td>15</td>\n",
       "      <td>49</td>\n",
       "      <td>135.508592</td>\n",
       "    </tr>\n",
       "    <tr>\n",
       "      <td>16</td>\n",
       "      <td>86</td>\n",
       "      <td>119.916090</td>\n",
       "    </tr>\n",
       "    <tr>\n",
       "      <td>17</td>\n",
       "      <td>75</td>\n",
       "      <td>98.683076</td>\n",
       "    </tr>\n",
       "    <tr>\n",
       "      <td>18</td>\n",
       "      <td>101</td>\n",
       "      <td>88.247368</td>\n",
       "    </tr>\n",
       "    <tr>\n",
       "      <td>19</td>\n",
       "      <td>155</td>\n",
       "      <td>222.385058</td>\n",
       "    </tr>\n",
       "    <tr>\n",
       "      <td>20</td>\n",
       "      <td>170</td>\n",
       "      <td>209.414172</td>\n",
       "    </tr>\n",
       "    <tr>\n",
       "      <td>21</td>\n",
       "      <td>276</td>\n",
       "      <td>135.533969</td>\n",
       "    </tr>\n",
       "    <tr>\n",
       "      <td>22</td>\n",
       "      <td>110</td>\n",
       "      <td>159.556710</td>\n",
       "    </tr>\n",
       "    <tr>\n",
       "      <td>23</td>\n",
       "      <td>136</td>\n",
       "      <td>180.962599</td>\n",
       "    </tr>\n",
       "    <tr>\n",
       "      <td>24</td>\n",
       "      <td>68</td>\n",
       "      <td>179.919028</td>\n",
       "    </tr>\n",
       "  </tbody>\n",
       "</table>\n",
       "</div>"
      ],
      "text/plain": [
       "    Original     Predict\n",
       "0        321  272.303580\n",
       "1        215  227.918520\n",
       "2        127  180.560553\n",
       "3         64  115.258087\n",
       "4        175  233.268802\n",
       "5        275  230.601196\n",
       "6        179  125.352809\n",
       "7        232  195.302971\n",
       "8        142  185.488175\n",
       "9         99  198.652548\n",
       "10       252   94.982206\n",
       "11       174  184.128995\n",
       "12       129  100.515669\n",
       "13        74   69.223616\n",
       "14       264  259.017085\n",
       "15        49  135.508592\n",
       "16        86  119.916090\n",
       "17        75   98.683076\n",
       "18       101   88.247368\n",
       "19       155  222.385058\n",
       "20       170  209.414172\n",
       "21       276  135.533969\n",
       "22       110  159.556710\n",
       "23       136  180.962599\n",
       "24        68  179.919028"
      ]
     },
     "execution_count": 230,
     "metadata": {},
     "output_type": "execute_result"
    }
   ],
   "source": [
    "y_prediction = line1.predict(X_test)           #taking the Y prediction for testing results\n",
    "\n",
    "newdatalist = pd.DataFrame({'Original': Y_test, 'Predict': y_prediction}) #making new datalist to make the ouptut clearer\n",
    "newdatalist1 = newdatalist.head(25) #output the datalist to compare results for both values\n",
    "\n",
    "newdatalist1 #outputting\n"
   ]
  },
  {
   "cell_type": "code",
   "execution_count": 237,
   "metadata": {
    "scrolled": false
   },
   "outputs": [
    {
     "data": {
      "image/png": "[encoded data removed]",
      "text/plain": [
       "<Figure size 1080x576 with 1 Axes>"
      ]
     },
     "metadata": {
      "needs_background": "light"
     },
     "output_type": "display_data"
    }
   ],
   "source": [
    "newdatalist1.plot(kind='bar',figsize=(15,8))         # plotting the graph and adjusting the figure values\n",
    "plt.grid(which='major', linestyle='-', linewidth='1.0', color='black')  \n",
    "plt.grid(which='minor', linestyle=':', linewidth='1.0', color='yellow') \n",
    "plt.title(\"Linear Regresssion of Y and BMI,BP\")\n",
    "plt.show() #outputting graph"
   ]
  },
  {
   "cell_type": "code",
   "execution_count": 232,
   "metadata": {},
   "outputs": [
    {
     "name": "stdout",
     "output_type": "stream",
     "text": [
      "Mean Squared Error: 3614.3110200257074\n"
     ]
    }
   ],
   "source": [
    "print('Mean Squared Error:', metrics.mean_squared_error(Y_test, y_prediction)) #calculating mean squared error"
   ]
  },
  {
   "cell_type": "code",
   "execution_count": null,
   "metadata": {},
   "outputs": [],
   "source": []
  }
 ],
 "metadata": {
  "kernelspec": {
   "display_name": "Python 3",
   "language": "python",
   "name": "python3"
  },
  "language_info": {
   "codemirror_mode": {
    "name": "ipython",
    "version": 3
   },
   "file_extension": ".py",
   "mimetype": "text/x-python",
   "name": "python",
   "nbconvert_exporter": "python",
   "pygments_lexer": "ipython3",
   "version": "3.7.4"
  }
 },
 "nbformat": 4,
 "nbformat_minor": 2
}
